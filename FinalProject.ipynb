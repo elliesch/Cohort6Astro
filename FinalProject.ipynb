{
 "cells": [
  {
   "cell_type": "markdown",
   "metadata": {},
   "source": [
    "# Plotting for Final Project\n",
    "## Example: Plotting Randomly Generated Stars in Aitoff projection\n",
    "======================================\n",
    "\n",
    "This is an example how to plot data using the astropy.coordinates package in\n",
    "the Aitoff projection. Here a randomly generated data set will be used. The\n",
    "final script can be found below.\n",
    "\n",
    "First we need to import the required packages. We use matplotlib here for\n",
    "plotting and numpy to get the value of pi."
   ]
  },
  {
   "cell_type": "code",
   "execution_count": null,
   "metadata": {
    "collapsed": false
   },
   "outputs": [],
   "source": [
    "from astropy import units as u\n",
    "from astropy.coordinates import SkyCoord\n",
    "import matplotlib.pyplot as plt\n",
    "import numpy as np\n",
    "%matplotlib inline"
   ]
  },
  {
   "cell_type": "markdown",
   "metadata": {},
   "source": [
    "We now generate random data for visualisation. For RA this is done in the range\n",
    "of 0 and 360 degrees (``ra_random``), for DEC between -90 and +90 degrees\n",
    "(``dec_random``)."
   ]
  },
  {
   "cell_type": "code",
   "execution_count": null,
   "metadata": {
    "collapsed": true
   },
   "outputs": [],
   "source": [
    "ra_random = np.random.rand(100)*360.0 #This command uses numpy to generate 100 random coordinates from 0 to 360 degrees\n",
    "dec_random = np.random.rand(100)*180.0-90.0 #This command does the same from -90 to +90 degress"
   ]
  },
  {
   "cell_type": "markdown",
   "metadata": {},
   "source": [
    "As next step, those coordinates are transformed into an astropy.coordinates\n",
    "`~astropy.coordinates.SkyCoord` object."
   ]
  },
  {
   "cell_type": "code",
   "execution_count": null,
   "metadata": {
    "collapsed": true
   },
   "outputs": [],
   "source": [
    "c = SkyCoord(ra=ra_random*u.degree, dec=dec_random*u.degree, frame='icrs')\n",
    "#ICRS stands for International Celestial Reference System: https://en.wikipedia.org/wiki/International_Celestial_Reference_System\n",
    "#The command above is taking our randomly generated coordinates and defining them as RA and DEC in ICRS coordinates"
   ]
  },
  {
   "cell_type": "markdown",
   "metadata": {},
   "source": [
    "Because matplotlib needs the coordinates in radians, we have to convert them from degrees into radians."
   ]
  },
  {
   "cell_type": "code",
   "execution_count": null,
   "metadata": {
    "collapsed": true
   },
   "outputs": [],
   "source": [
    "ra_rad = c.ra.radian #this converts the coordinates from degrees to radians\n",
    "dec_rad = c.dec.radian"
   ]
  },
  {
   "cell_type": "markdown",
   "metadata": {},
   "source": [
    "Furthermore matplotlib needs the RA coordinate (here, the x coordinate) in the range between -pi and pi, not 0 and 2pi. This means that all values that are larger than pi (180 degrees) are subtrated by 2pi to get the required range."
   ]
  },
  {
   "cell_type": "code",
   "execution_count": null,
   "metadata": {
    "collapsed": true
   },
   "outputs": [],
   "source": [
    "ra_rad[ra_rad > np.pi] -= 2. * np.pi"
   ]
  },
  {
   "cell_type": "markdown",
   "metadata": {},
   "source": [
    "As the last step we set up the plotting environment with matplotlib using the Aitoff projection."
   ]
  },
  {
   "cell_type": "code",
   "execution_count": null,
   "metadata": {
    "collapsed": false
   },
   "outputs": [],
   "source": [
    "## PLOT CELL\n",
    "fig = plt.figure(figsize=[10, 8]) #This controls the size of the figure\n",
    "plt.subplot(111, axisbg='LightCyan')\n",
    "plt.grid(True)\n",
    "plt.plot(ra_rad, dec_rad, '*')\n",
    "plt.show()"
   ]
  },
  {
   "cell_type": "markdown",
   "metadata": {},
   "source": [
    "Awesome! Now we have our sky plot, but is it the shape that we want it in? We have maps of the earth that usually look like this: <img src=\"https://i.stack.imgur.com/egiWd.png\">\n",
    "\n",
    "What's different about this map and our own? How do we get from our own rectangular map to the one above? We'll begin by looking at this link: https://en.wikipedia.org/wiki/Map_projection"
   ]
  },
  {
   "cell_type": "markdown",
   "metadata": {},
   "source": [
    "After we've discussed different types of projections, we can see if python has a built in map projection. (I have a sneaky suspicion that it does!) See if you can find some options on google for projecting a spherical map. As a hint, you might want to start with the astropy library: http://www.astropy.org/astropy-tutorials/ Once you've found a projection method, test it out in the cell below using our data from the cell that begins with a comment saying ##PLOT CELL"
   ]
  },
  {
   "cell_type": "code",
   "execution_count": null,
   "metadata": {
    "collapsed": true
   },
   "outputs": [],
   "source": []
  },
  {
   "cell_type": "markdown",
   "metadata": {},
   "source": [
    "Let's divide our project up into steps. \n",
    "1. We would like to make a sky map, as seen from earth, of all five clusters used last week, as shown above the equatorial sky. The x-axis tick labels should reflect the hour that these objects reach zenith.\n",
    "2. The five clusters should have their own individual colors and/or markers, with good reasons for the colors. The map's colors should also be chosen with data visualization in mind.\n",
    "3. They should be placed on a background of constellations in both northern and southern hemispheres. \n",
    "4. The clusters that have known exoplanets should glow. Known exoplanets can be found by researching the clusters. \n",
    "\n",
    "Should we do anything for clusters that have sunlike planets?"
   ]
  },
  {
   "cell_type": "code",
   "execution_count": null,
   "metadata": {
    "collapsed": true
   },
   "outputs": [],
   "source": []
  }
 ],
 "metadata": {
  "anaconda-cloud": {},
  "kernelspec": {
   "display_name": "Python [conda root]",
   "language": "python",
   "name": "conda-root-py"
  },
  "language_info": {
   "codemirror_mode": {
    "name": "ipython",
    "version": 3
   },
   "file_extension": ".py",
   "mimetype": "text/x-python",
   "name": "python",
   "nbconvert_exporter": "python",
   "pygments_lexer": "ipython3",
   "version": "3.5.2"
  }
 },
 "nbformat": 4,
 "nbformat_minor": 1
}
